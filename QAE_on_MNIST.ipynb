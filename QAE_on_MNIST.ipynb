{
  "nbformat": 4,
  "nbformat_minor": 0,
  "metadata": {
    "colab": {
      "name": "QAE_on_MNIST.ipynb",
      "provenance": [],
      "collapsed_sections": []
    },
    "kernelspec": {
      "name": "python3",
      "display_name": "Python 3"
    }
  },
  "cells": [
    {
      "cell_type": "code",
      "metadata": {
        "id": "GykSPMdGsmo-"
      },
      "source": [
        "# !pip install qiskit\n",
        "# !pip install pylatexenc\n",
        "# !pip install matplotlib-venn\n",
        "# !pip install -U -r resources/requirements.txt\n",
        "\n",
        "import qiskit\n",
        "print(\"Qiskit:\",qiskit.__qiskit_version__)\n",
        "from qiskit import *\n",
        "from qiskit.quantum_info import Statevector \n",
        "# from qiskit_textbook.tools import array_to_latex\n",
        "from qiskit.visualization import plot_bloch_multivector, plot_state_qsphere\n",
        "from qiskit.visualization import plot_histogram\n",
        "\n",
        "# find the least busy backend \n",
        "# provider = IBMQ.get_provider(hub='ibm-q')\n",
        "from qiskit.providers.ibmq import least_busy\n",
        "# backend = least_busy(provider.backends(filters=lambda b: b.configuration().n_qubits >= 2 and\n",
        "#                                    not b.configuration().simulator and b.status().operational==True))\n",
        "# job_exp = execute(circuit, backend=backend, shots=1024)\n",
        "from qiskit.tools.monitor import job_monitor\n",
        "# job_monitor(job_exp)  # displays job status under cell\n",
        "\n",
        "from IPython.display import clear_output\n",
        "clear_output()\n",
        "from qiskit import Aer\n",
        "from qiskit.circuit.library import QFT\n",
        "from qiskit.aqua import QuantumInstance, aqua_globals\n",
        "from qiskit.quantum_info import state_fidelity\n",
        "from qiskit.aqua.algorithms import HHL, NumPyLSsolver\n",
        "from qiskit.aqua.components.eigs import EigsQPE\n",
        "from qiskit.aqua.components.reciprocals import LookupRotation\n",
        "from qiskit.aqua.operators import MatrixOperator\n",
        "from qiskit.aqua.components.initial_states import Custom\n",
        "import numpy as np\n",
        "from IPython.display import clear_output\n",
        "clear_output()\n",
        "from qiskit import QuantumCircuit\n",
        "from qiskit.circuit.library import QFT\n",
        "from qiskit import Aer, execute\n",
        "from qiskit.visualization import plot_histogram\n",
        "from math import gcd\n",
        "import tensorflow as tf\n",
        "import matplotlib.pyplot as plt \n",
        "from tensorflow.image import ResizeMethod\n",
        "from scipy import optimize\n"
      ],
      "execution_count": 23,
      "outputs": []
    },
    {
      "cell_type": "code",
      "metadata": {
        "id": "wi8i8g2Rvjc0"
      },
      "source": [
        "def evolution(input_dim,reference_dim,thetas,phis,lambdas):\n",
        "  classical_qubit = ClassicalRegister(1)    ### for swap test\n",
        "  swap_test_qubit = QuantumRegister(1)      ### for swap test\n",
        "  input = QuantumRegister(input_dim)\n",
        "  reference_state = QuantumRegister(reference_dim)\n",
        "\n",
        "  #intializing circuit\n",
        "  qc = QuantumCircuit(classical_qubit, swap_test_qubit, reference_state, input)\n",
        "\n",
        "  para_index=0\n",
        "  for i in range(input_dim):\n",
        "    qc.u3(thetas[para_index],phis[para_index],lambdas[para_index], input[i])\n",
        "    para_index+=1\n",
        "  qc.barrier()\n",
        "  \n",
        "  for i in range(0,input_dim):\n",
        "    for j in range(0,input_dim):\n",
        "      if j!=i:\n",
        "        qc.cu3(thetas[para_index],phis[para_index],lambdas[para_index], input[i], input[j])\n",
        "        para_index+=1\n",
        "  qc.barrier()  \n",
        "  for i in range(input_dim):\n",
        "    qc.u3(thetas[para_index],phis[para_index],lambdas[para_index], input[i])\n",
        "    para_index+=1\n",
        "  ###SWAP test for measuring fidelity\n",
        "  qc.barrier()\n",
        "  qc.h(swap_test_qubit)\n",
        "  for i in range(reference_dim):\n",
        "    qc.cswap(swap_test_qubit,input[i],reference_state[i])\n",
        "  qc.h(swap_test_qubit)\n",
        "  # qc.measure(swap_test_qubit,classical_qubit)\n",
        "  return qc"
      ],
      "execution_count": 12,
      "outputs": []
    },
    {
      "cell_type": "code",
      "metadata": {
        "id": "Z3tCA_zMs4U5"
      },
      "source": [
        "mnist = tf.keras.datasets.mnist # Object of the MNIST dataset\n",
        "np.random.seed(77)\n",
        "(x_train, y_train),(x_test, y_test) = mnist.load_data() # Load data\n",
        "X_batch=tf.reshape(x_train, [-1, 28, 28, 1])\n",
        "\n",
        "####downscale to 16x16 and convert to blackwhite\n",
        "h_dim=16\n",
        "v_dim=16\n",
        "abc=tf.image.resize(  \n",
        "    X_batch, [h_dim,v_dim], method=ResizeMethod.BILINEAR, preserve_aspect_ratio=False,\n",
        "    antialias=False, name=None\n",
        ")\n",
        "\n",
        "nclasses = np.unique(y_train).size\n",
        "threshold = 125\n",
        "def shapex(X):\n",
        "    return np.where(X<127,0,1)\n",
        "x_train = np.squeeze(shapex(abc),-1)\n",
        "\n",
        "# print(np.shape(x_train))\n",
        "# plt.imshow(x_train[2414], cmap=\"gray\") # Import the image\n",
        "# plt.show() # Plot the image\n"
      ],
      "execution_count": 13,
      "outputs": []
    },
    {
      "cell_type": "code",
      "metadata": {
        "id": "yIpPRdzLs4jn"
      },
      "source": [
        "def image_to_state_vector(x):\n",
        "  ''' 16x16 BW image to normalized 256x1 vec\n",
        "  '''\n",
        "  state_vector=[]\n",
        "  for row in x:\n",
        "    for elt in row:\n",
        "      state_vector.append(elt)\n",
        "  return state_vector/np.linalg.norm(state_vector)\n",
        "\n",
        "def get_init_state(init_sv):\n",
        "  '''tensor product input with aiding qubits (reference state & swap_test_qubit)\n",
        "  '''\n",
        "  state=[]\n",
        "  for i in range(2**(input_dim+reference_dim+1)):\n",
        "    if i%(2**(reference_dim+1))==0:\n",
        "      state.append(init_sv[i//2**(reference_dim+1)])\n",
        "    else:\n",
        "      state.append(0)\n",
        "  state=Statevector(state)\n",
        "  return state\n",
        "\n",
        "###get input batch\n",
        "state_input_batchs = [image_to_state_vector(x) for x in x_train]\n"
      ],
      "execution_count": 14,
      "outputs": []
    },
    {
      "cell_type": "code",
      "metadata": {
        "id": "kTPUoFx2s4qZ"
      },
      "source": [
        ""
      ],
      "execution_count": null,
      "outputs": []
    },
    {
      "cell_type": "code",
      "metadata": {
        "id": "ytk-6KPqs4tQ"
      },
      "source": [
        "# np.shape(state_input_batchs[:1000])\n",
        "# z=get_init_state(state_input_batchs[0])\n",
        "# final_state=z.evolve(mnistU)\n",
        "# qiskit.quantum_info.partial_trace(final_state,range(1,input_dim+reference_dim+1))"
      ],
      "execution_count": null,
      "outputs": []
    },
    {
      "cell_type": "code",
      "metadata": {
        "id": "RFE4IAums4wK"
      },
      "source": [
        "def calculate_fidelity(x0,training_inputs):\n",
        "  x0=np.reshape(x0,(3,-1))\n",
        "  thetas = x0[0]\n",
        "  phis = x0[1]\n",
        "  lambdas = x0[2]\n",
        "  total_error = 0\n",
        "  mnistU=evolution(input_dim,reference_dim,thetas,phis,lambdas)\n",
        "  for input_sv in training_inputs:\n",
        "    state=get_init_state(input_sv)\n",
        "    final_state=state.evolve(mnistU)     ###evolution\n",
        "    ##tracing over all except the swap_test_qubit\n",
        "    p_0=qiskit.quantum_info.partial_trace(final_state,range(1,input_dim+reference_dim+1)).probabilities()[0]  \n",
        "    # if p_0>1: print(p_0)\n",
        "    fidel=np.sqrt(max(0,2*p_0-1))\n",
        "    total_error +=(1-fidel)\n",
        "  total_error /= training_inputs.shape[0]\n",
        "  print(\"\\b obj:\",total_error)\n",
        "  return total_error"
      ],
      "execution_count": 20,
      "outputs": []
    },
    {
      "cell_type": "code",
      "metadata": {
        "id": "5F-HwXcGs40l"
      },
      "source": [
        "input_dim=8\n",
        "reference_dim=2\n",
        "n_para = (input_dim*(input_dim-1)+2*input_dim)*3\n",
        "dim_state = 2**input_dim\n",
        "x0 = np.random.uniform(np.pi,np.pi*3,n_para)"
      ],
      "execution_count": 21,
      "outputs": []
    },
    {
      "cell_type": "code",
      "metadata": {
        "id": "8RcVbJa1s48W"
      },
      "source": [
        "minimizer_kwargs ={\n",
        "    \"method\" : \"L-BFGS-B\",\n",
        "    \"args\"   : np.array(state_input_batchs[:1000]),\n",
        "    \"bounds\" : optimize.Bounds(0,4*np.pi),\n",
        "    \"options\": {\"iprint\" : 100, \"maxls\": 15, \"disp\": True}\n",
        "}"
      ],
      "execution_count": 24,
      "outputs": []
    },
    {
      "cell_type": "code",
      "metadata": {
        "colab": {
          "base_uri": "https://localhost:8080/"
        },
        "id": "DbwiOWpusx8s",
        "outputId": "26ae2bf2-0a56-4202-8aed-980e05180843"
      },
      "source": [
        "# calculate_fidelity(x0, np.array(state_input_batchs[:1000]))\n",
        "local_mins =[]\n",
        "\n",
        "def record_local_mins(x,f,accept):\n",
        "    local_mins.append((x,f))\n",
        "    print(\"x:\")\n",
        "    print(x)\n",
        "ret = optimize.basinhopping(calculate_fidelity, x0, minimizer_kwargs=minimizer_kwargs,\n",
        "                   niter=10,disp=True,niter_success=10,callback=record_local_mins)"
      ],
      "execution_count": null,
      "outputs": [
        {
          "output_type": "stream",
          "text": [
            "\b obj: 0.4986734959463899\n",
            "\b obj: 0.4986734959964842\n",
            "\b obj: 0.49867349598264643\n",
            "\b obj: 0.4986734959596468\n",
            "\b obj: 0.49867349586049625\n",
            "\b obj: 0.49867349612035455\n",
            "\b obj: 0.4986734959886146\n",
            "\b obj: 0.4986734957991878\n",
            "\b obj: 0.4986734958656687\n",
            "\b obj: 0.4986734959416119\n",
            "\b obj: 0.49867349593287796\n",
            "\b obj: 0.4986734959671196\n",
            "\b obj: 0.4986734959405891\n",
            "\b obj: 0.49867349593849025\n",
            "\b obj: 0.4986734959273289\n",
            "\b obj: 0.49867349596038796\n",
            "\b obj: 0.49867349577462716\n",
            "\b obj: 0.4986734959767643\n",
            "\b obj: 0.4986734958864883\n",
            "\b obj: 0.49867349588554316\n",
            "\b obj: 0.49867349592825355\n",
            "\b obj: 0.49867349585458753\n",
            "\b obj: 0.49867349589785\n",
            "\b obj: 0.4986734957398307\n",
            "\b obj: 0.4986734959200842\n",
            "\b obj: 0.4986734959211988\n",
            "\b obj: 0.49867349587510695\n",
            "\b obj: 0.4986734959541367\n",
            "\b obj: 0.4986734959529015\n",
            "\b obj: 0.4986734959313522\n",
            "\b obj: 0.4986734959207219\n",
            "\b obj: 0.4986734959935527\n",
            "\b obj: 0.49867349594638993\n",
            "\b obj: 0.4986734959692002\n",
            "\b obj: 0.49867349589315163\n",
            "\b obj: 0.49867349594155463\n",
            "\b obj: 0.4986734959192584\n",
            "\b obj: 0.49867349597942584\n",
            "\b obj: 0.4986734959239045\n",
            "\b obj: 0.49867349594638993\n",
            "\b obj: 0.4986734959463898\n",
            "\b obj: 0.4986734960110029\n",
            "\b obj: 0.4986734959439081\n",
            "\b obj: 0.49867349589288174\n",
            "\b obj: 0.49867349598636557\n",
            "\b obj: 0.49867349606675715\n",
            "\b obj: 0.4986734959463897\n",
            "\b obj: 0.49867349594638977\n",
            "\b obj: 0.49867349594638966\n",
            "\b obj: 0.49867349591295\n",
            "\b obj: 0.4986734959131945\n",
            "\b obj: 0.4986734959677321\n",
            "\b obj: 0.4986734959030688\n",
            "\b obj: 0.49867349594638966\n",
            "\b obj: 0.49867349594638977\n",
            "\b obj: 0.4986734959463899\n",
            "\b obj: 0.49867349594639\n",
            "\b obj: 0.4986734959160125\n",
            "\b obj: 0.4986734959055329\n",
            "\b obj: 0.4986734960675154\n",
            "\b obj: 0.49867349594638977\n",
            "\b obj: 0.4986734959463897\n",
            "\b obj: 0.4986734959463899\n",
            "\b obj: 0.4986734959463897\n",
            "\b obj: 0.4986734959463899\n",
            "\b obj: 0.49867349591049415\n",
            "\b obj: 0.4986734959604105\n",
            "\b obj: 0.49867349594638993\n"
          ],
          "name": "stdout"
        }
      ]
    },
    {
      "cell_type": "code",
      "metadata": {
        "id": "W9DkUfkGyPQr"
      },
      "source": [
        ""
      ],
      "execution_count": null,
      "outputs": []
    }
  ]
}